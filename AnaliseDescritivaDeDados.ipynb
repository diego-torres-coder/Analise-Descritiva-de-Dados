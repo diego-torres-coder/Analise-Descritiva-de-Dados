{
 "cells": [
  {
   "cell_type": "markdown",
   "metadata": {
    "id": "sllVuUY9bBUv"
   },
   "source": [
    "# Análise Descritiva de Dados da PNAD 2015"
   ]
  },
  {
   "cell_type": "markdown",
   "metadata": {
    "id": "kT0j8eyPbHJS"
   },
   "source": [
    "## Importações"
   ]
  },
  {
   "cell_type": "code",
   "execution_count": 1,
   "metadata": {
    "id": "hvSnIxCQa-gR"
   },
   "outputs": [],
   "source": [
    "import pandas as pd\n",
    "import numpy as np\n",
    "import seaborn as sns\n",
    "import scipy\n",
    "import os"
   ]
  },
  {
   "cell_type": "code",
   "execution_count": 2,
   "metadata": {
    "colab": {
     "base_uri": "https://localhost:8080/"
    },
    "id": "wX2UI9KTbR3_",
    "outputId": "0af07dc5-7cd2-4e29-86fe-f50456695179"
   },
   "outputs": [
    {
     "name": "stdout",
     "output_type": "stream",
     "text": [
      "Versão do pandas: 1.5.3\n",
      "Versão do numpy: 1.24.3\n",
      "Versão do seaborn: 0.12.2\n",
      "Versão do scipy: 1.10.1\n"
     ]
    }
   ],
   "source": [
    "# Exibe as versões das bibliotecas importadas no ambiente de execução do Google Colab\n",
    "print(f'Versão do pandas: {pd.__version__}')\n",
    "print(f'Versão do numpy: {np.__version__}')\n",
    "print(f'Versão do seaborn: {sns.__version__}')\n",
    "print(f'Versão do scipy: {scipy.__version__}')"
   ]
  },
  {
   "cell_type": "markdown",
   "metadata": {
    "id": "AugeF0G-i72I"
   },
   "source": [
    "## Conjunto de Dados do Projeto"
   ]
  },
  {
   "cell_type": "markdown",
   "metadata": {
    "id": "yVq_fI8xi_0Y"
   },
   "source": [
    "A **Pesquisa Nacional por Amostra de Domicílios (PNAD)** investiga anualmente, de forma permanente, características gerais da população, de educação, trabalho, rendimento e habitação e outras, com periodicidade variável, de acordo com as necessidades de informação para o país, como as características sobre migração, fecundidade, nupcialidade, saúde, segurança alimentar, entre outros temas. O levantamento dessas estatísticas constitui, ao longo dos 49 anos de realização da pesquisa, um importante instrumento para formulação, validação e avaliação de políticas orientadas para o desenvolvimento socioeconômico e a melhoria das condições de vida no Brasil."
   ]
  },
  {
   "cell_type": "markdown",
   "metadata": {
    "id": "6gZQlfu0jVfN"
   },
   "source": [
    "### Variáveis Utilizadas"
   ]
  },
  {
   "cell_type": "markdown",
   "metadata": {
    "id": "gz7SILwtjaQE"
   },
   "source": [
    "*   **Renda**: rendimento mensal do trabalho principal para pessoas de 10 anos ou mais de idade.\n",
    "*   **Idade**: idade do morador na data de referência em anos.\n",
    "*   **Altura**: altura do morador em metros (elaboração própria).\n",
    "*   **UF**: estado da federação\n",
    "*   **Anos de Estudo**: anos de estudo do morador.\n",
    "*   **Cor**: cor declarada pelo morador.\n",
    "\n"
   ]
  },
  {
   "cell_type": "markdown",
   "metadata": {
    "id": "2GdsL32QjaGS"
   },
   "source": [
    "### Observações\n",
    "\n",
    "Os seguintes tratamentos foram realizados nos dados originais da pesquisa:\n",
    "\n",
    "\n",
    "\n",
    "1.   Forma eliminados os registros onde a renda inválida (999 999 999 999)\n",
    "2.   Foram eliminados os registros onde a renda era missing\n",
    "3.   Foram considerados somente os registros das pessoas de referência de cada domicílio (responsável pelo domicílio)\n",
    "\n"
   ]
  },
  {
   "cell_type": "markdown",
   "metadata": {
    "id": "dG9x4KleeaSP"
   },
   "source": [
    "## Análise dos Dados"
   ]
  },
  {
   "cell_type": "markdown",
   "metadata": {
    "id": "xTjV9r0Ck3bN"
   },
   "source": [
    "### Importação e Visualização dos Dados"
   ]
  },
  {
   "cell_type": "code",
   "execution_count": 3,
   "metadata": {
    "colab": {
     "base_uri": "https://localhost:8080/",
     "height": 363
    },
    "id": "OYVuJmr0eWsr",
    "outputId": "cf49e80b-6317-4703-e007-d572bb1f295a"
   },
   "outputs": [
    {
     "data": {
      "text/html": [
       "<div>\n",
       "<style scoped>\n",
       "    .dataframe tbody tr th:only-of-type {\n",
       "        vertical-align: middle;\n",
       "    }\n",
       "\n",
       "    .dataframe tbody tr th {\n",
       "        vertical-align: top;\n",
       "    }\n",
       "\n",
       "    .dataframe thead th {\n",
       "        text-align: right;\n",
       "    }\n",
       "</style>\n",
       "<table border=\"1\" class=\"dataframe\">\n",
       "  <thead>\n",
       "    <tr style=\"text-align: right;\">\n",
       "      <th></th>\n",
       "      <th>UF</th>\n",
       "      <th>Sexo</th>\n",
       "      <th>Idade</th>\n",
       "      <th>Cor</th>\n",
       "      <th>Anos de Estudo</th>\n",
       "      <th>Renda</th>\n",
       "      <th>Altura</th>\n",
       "    </tr>\n",
       "  </thead>\n",
       "  <tbody>\n",
       "    <tr>\n",
       "      <th>0</th>\n",
       "      <td>11</td>\n",
       "      <td>0</td>\n",
       "      <td>23</td>\n",
       "      <td>8</td>\n",
       "      <td>12</td>\n",
       "      <td>800</td>\n",
       "      <td>1.603808</td>\n",
       "    </tr>\n",
       "    <tr>\n",
       "      <th>1</th>\n",
       "      <td>11</td>\n",
       "      <td>1</td>\n",
       "      <td>23</td>\n",
       "      <td>2</td>\n",
       "      <td>12</td>\n",
       "      <td>1150</td>\n",
       "      <td>1.739790</td>\n",
       "    </tr>\n",
       "    <tr>\n",
       "      <th>2</th>\n",
       "      <td>11</td>\n",
       "      <td>1</td>\n",
       "      <td>35</td>\n",
       "      <td>8</td>\n",
       "      <td>15</td>\n",
       "      <td>880</td>\n",
       "      <td>1.760444</td>\n",
       "    </tr>\n",
       "    <tr>\n",
       "      <th>3</th>\n",
       "      <td>11</td>\n",
       "      <td>0</td>\n",
       "      <td>46</td>\n",
       "      <td>2</td>\n",
       "      <td>6</td>\n",
       "      <td>3500</td>\n",
       "      <td>1.783158</td>\n",
       "    </tr>\n",
       "    <tr>\n",
       "      <th>4</th>\n",
       "      <td>11</td>\n",
       "      <td>1</td>\n",
       "      <td>47</td>\n",
       "      <td>8</td>\n",
       "      <td>9</td>\n",
       "      <td>150</td>\n",
       "      <td>1.690631</td>\n",
       "    </tr>\n",
       "    <tr>\n",
       "      <th>5</th>\n",
       "      <td>11</td>\n",
       "      <td>1</td>\n",
       "      <td>34</td>\n",
       "      <td>8</td>\n",
       "      <td>12</td>\n",
       "      <td>790</td>\n",
       "      <td>1.637906</td>\n",
       "    </tr>\n",
       "    <tr>\n",
       "      <th>6</th>\n",
       "      <td>11</td>\n",
       "      <td>0</td>\n",
       "      <td>57</td>\n",
       "      <td>8</td>\n",
       "      <td>12</td>\n",
       "      <td>3150</td>\n",
       "      <td>1.570078</td>\n",
       "    </tr>\n",
       "    <tr>\n",
       "      <th>7</th>\n",
       "      <td>11</td>\n",
       "      <td>1</td>\n",
       "      <td>60</td>\n",
       "      <td>8</td>\n",
       "      <td>12</td>\n",
       "      <td>1700</td>\n",
       "      <td>1.608495</td>\n",
       "    </tr>\n",
       "    <tr>\n",
       "      <th>8</th>\n",
       "      <td>11</td>\n",
       "      <td>1</td>\n",
       "      <td>50</td>\n",
       "      <td>4</td>\n",
       "      <td>14</td>\n",
       "      <td>1800</td>\n",
       "      <td>1.780329</td>\n",
       "    </tr>\n",
       "    <tr>\n",
       "      <th>9</th>\n",
       "      <td>11</td>\n",
       "      <td>0</td>\n",
       "      <td>26</td>\n",
       "      <td>8</td>\n",
       "      <td>12</td>\n",
       "      <td>1150</td>\n",
       "      <td>1.793203</td>\n",
       "    </tr>\n",
       "  </tbody>\n",
       "</table>\n",
       "</div>"
      ],
      "text/plain": [
       "   UF  Sexo  Idade  Cor  Anos de Estudo  Renda    Altura\n",
       "0  11     0     23    8              12    800  1.603808\n",
       "1  11     1     23    2              12   1150  1.739790\n",
       "2  11     1     35    8              15    880  1.760444\n",
       "3  11     0     46    2               6   3500  1.783158\n",
       "4  11     1     47    8               9    150  1.690631\n",
       "5  11     1     34    8              12    790  1.637906\n",
       "6  11     0     57    8              12   3150  1.570078\n",
       "7  11     1     60    8              12   1700  1.608495\n",
       "8  11     1     50    4              14   1800  1.780329\n",
       "9  11     0     26    8              12   1150  1.793203"
      ]
     },
     "execution_count": 3,
     "metadata": {},
     "output_type": "execute_result"
    }
   ],
   "source": [
    "# Cria um dataframe com os resultados da pesquisa\n",
    "dados = pd.read_csv('dados.csv')\n",
    "\n",
    "# Exibe as 10 primeiras linhas do dataframe recém-criado\n",
    "dados.head(10)"
   ]
  },
  {
   "cell_type": "code",
   "execution_count": 41,
   "metadata": {},
   "outputs": [
    {
     "data": {
      "text/plain": [
       "(76840, 7)"
      ]
     },
     "execution_count": 41,
     "metadata": {},
     "output_type": "execute_result"
    }
   ],
   "source": [
    "# Exibe a forma do dataframe\n",
    "dados.shape"
   ]
  },
  {
   "cell_type": "markdown",
   "metadata": {
    "id": "6wstO60ZksFT"
   },
   "source": [
    "\n",
    "### Análise do Comportamento da Variável Renda"
   ]
  },
  {
   "cell_type": "markdown",
   "metadata": {
    "id": "-0qBhMPVRBG4"
   },
   "source": [
    "#### Classes de Renda\n"
   ]
  },
  {
   "cell_type": "markdown",
   "metadata": {
    "id": "003kct_JSmG4"
   },
   "source": [
    "Já que a variável renda é quantitativa, vamos criar intervalos de renda nos quais os valores desta variável possam cair. Desta forma, poderemos construir uma tabela de frequências para determinar a quantidade de observações que pertencem a cada intervalo.\n",
    "\n",
    "São estes os intervalos:\n",
    "\n",
    "\n",
    "\n",
    "*   **A**: Acima de 25 SM\n",
    "*   **B**: De 15 a 25 SM\n",
    "*   **C**: De 5 a 15 SM\n",
    "*   **D**: De 2 a 5 SM\n",
    "*   **E**: Até 2 SM\n",
    "\n",
    "Na época da pesquisa 1 salário mínimo (SM) valia R$ 788,00."
   ]
  },
  {
   "cell_type": "code",
   "execution_count": 4,
   "metadata": {
    "id": "KNyjiE9kks9O"
   },
   "outputs": [],
   "source": [
    "menor_salario = dados['Renda'].min()\n",
    "maior_salario = dados['Renda'].max()"
   ]
  },
  {
   "cell_type": "code",
   "execution_count": 5,
   "metadata": {
    "colab": {
     "base_uri": "https://localhost:8080/"
    },
    "id": "VWFi3CPjSyRw",
    "outputId": "97986bb7-961b-49ce-f673-2c74ca544d6c"
   },
   "outputs": [
    {
     "name": "stdout",
     "output_type": "stream",
     "text": [
      "Menor salário: 0\n",
      "Maior salário: 200000\n"
     ]
    }
   ],
   "source": [
    "print(f'Menor salário: {menor_salario}', f'Maior salário: {maior_salario}', sep='\\n')"
   ]
  },
  {
   "cell_type": "code",
   "execution_count": 6,
   "metadata": {
    "colab": {
     "base_uri": "https://localhost:8080/"
    },
    "id": "rqpmW6QpS_pF",
    "outputId": "849f95d3-26eb-4840-f202-9a5bd7488bcc"
   },
   "outputs": [
    {
     "data": {
      "text/plain": [
       "[0, 1576, 3940, 11820, 19700, 200000]"
      ]
     },
     "execution_count": 6,
     "metadata": {},
     "output_type": "execute_result"
    }
   ],
   "source": [
    "# Definição das classes de salários\n",
    "classes = [menor_salario, 1576, 3940, 11820, 19700, maior_salario]\n",
    "classes"
   ]
  },
  {
   "cell_type": "code",
   "execution_count": 7,
   "metadata": {
    "colab": {
     "base_uri": "https://localhost:8080/"
    },
    "id": "cZ1b_aVoTqmA",
    "outputId": "f0eaadc4-1edb-4cba-fcda-1fc36cc21bd1"
   },
   "outputs": [
    {
     "data": {
      "text/plain": [
       "['E', 'D', 'C', 'B', 'A']"
      ]
     },
     "execution_count": 7,
     "metadata": {},
     "output_type": "execute_result"
    }
   ],
   "source": [
    "# Rótulos para cada intervalo (classe de renda)\n",
    "rotulos = list('EDCBA')\n",
    "rotulos"
   ]
  },
  {
   "cell_type": "code",
   "execution_count": 8,
   "metadata": {
    "colab": {
     "base_uri": "https://localhost:8080/"
    },
    "id": "or0L8NugTxBZ",
    "outputId": "c5998e7c-cdfc-452b-9231-96b9f1e2bdb1"
   },
   "outputs": [
    {
     "data": {
      "text/plain": [
       "0        E\n",
       "1        E\n",
       "2        E\n",
       "3        D\n",
       "4        E\n",
       "        ..\n",
       "76835    E\n",
       "76836    E\n",
       "76837    E\n",
       "76838    E\n",
       "76839    E\n",
       "Name: Renda, Length: 76840, dtype: category\n",
       "Categories (5, object): ['E' < 'D' < 'C' < 'B' < 'A']"
      ]
     },
     "execution_count": 8,
     "metadata": {},
     "output_type": "execute_result"
    }
   ],
   "source": [
    "# Cria uma Series do pandas, categorizando cada valor de renda\n",
    "pd.cut(\n",
    "    x=dados['Renda'],\n",
    "    bins=classes,\n",
    "    labels=rotulos,\n",
    "    include_lowest=True\n",
    ")"
   ]
  },
  {
   "cell_type": "code",
   "execution_count": 9,
   "metadata": {
    "colab": {
     "base_uri": "https://localhost:8080/"
    },
    "id": "Wii04_1VUIf9",
    "outputId": "a6f0739d-26b6-42db-fb12-282d105313ba"
   },
   "outputs": [
    {
     "data": {
      "text/plain": [
       "E    49755\n",
       "D    18602\n",
       "C     7241\n",
       "B      822\n",
       "A      420\n",
       "Name: Renda, dtype: int64"
      ]
     },
     "execution_count": 9,
     "metadata": {},
     "output_type": "execute_result"
    }
   ],
   "source": [
    "# Cria uma tabela de frequências absolutas das classes de renda\n",
    "tabela_freq_absoluta = pd.value_counts(\n",
    "    pd.cut(\n",
    "        x=dados['Renda'],\n",
    "        bins=classes,\n",
    "        labels=rotulos,\n",
    "        include_lowest=True\n",
    "    ),\n",
    "    sort=False\n",
    ")\n",
    "tabela_freq_absoluta"
   ]
  },
  {
   "cell_type": "code",
   "execution_count": 10,
   "metadata": {
    "colab": {
     "base_uri": "https://localhost:8080/"
    },
    "id": "CBJJPbu0UkYc",
    "outputId": "0442dc77-b212-4faa-f00d-e7fed6d32982"
   },
   "outputs": [
    {
     "data": {
      "text/plain": [
       "E    0.647514\n",
       "D    0.242087\n",
       "C    0.094235\n",
       "B    0.010698\n",
       "A    0.005466\n",
       "Name: Renda, dtype: float64"
      ]
     },
     "execution_count": 10,
     "metadata": {},
     "output_type": "execute_result"
    }
   ],
   "source": [
    "# Cria uma tabela de frequências relativas das classes de renda\n",
    "tabela_freq_relativa = pd.value_counts(\n",
    "    pd.cut(\n",
    "        x=dados['Renda'],\n",
    "        bins=classes,\n",
    "        labels=rotulos,\n",
    "        include_lowest=True\n",
    "    ),\n",
    "    sort=False,\n",
    "    normalize=True\n",
    ")\n",
    "tabela_freq_relativa"
   ]
  },
  {
   "cell_type": "code",
   "execution_count": 11,
   "metadata": {
    "colab": {
     "base_uri": "https://localhost:8080/",
     "height": 206
    },
    "id": "GtmCA-dDVUaY",
    "outputId": "e8e55d31-b6e2-4d07-908d-b5ab1bbdaf3b"
   },
   "outputs": [
    {
     "data": {
      "text/html": [
       "<div>\n",
       "<style scoped>\n",
       "    .dataframe tbody tr th:only-of-type {\n",
       "        vertical-align: middle;\n",
       "    }\n",
       "\n",
       "    .dataframe tbody tr th {\n",
       "        vertical-align: top;\n",
       "    }\n",
       "\n",
       "    .dataframe thead th {\n",
       "        text-align: right;\n",
       "    }\n",
       "</style>\n",
       "<table border=\"1\" class=\"dataframe\">\n",
       "  <thead>\n",
       "    <tr style=\"text-align: right;\">\n",
       "      <th></th>\n",
       "      <th>Freq Absoluta</th>\n",
       "      <th>Freq Relativa (%)</th>\n",
       "    </tr>\n",
       "  </thead>\n",
       "  <tbody>\n",
       "    <tr>\n",
       "      <th>E</th>\n",
       "      <td>49755</td>\n",
       "      <td>64.751432</td>\n",
       "    </tr>\n",
       "    <tr>\n",
       "      <th>D</th>\n",
       "      <td>18602</td>\n",
       "      <td>24.208745</td>\n",
       "    </tr>\n",
       "    <tr>\n",
       "      <th>C</th>\n",
       "      <td>7241</td>\n",
       "      <td>9.423477</td>\n",
       "    </tr>\n",
       "    <tr>\n",
       "      <th>B</th>\n",
       "      <td>822</td>\n",
       "      <td>1.069755</td>\n",
       "    </tr>\n",
       "    <tr>\n",
       "      <th>A</th>\n",
       "      <td>420</td>\n",
       "      <td>0.546590</td>\n",
       "    </tr>\n",
       "  </tbody>\n",
       "</table>\n",
       "</div>"
      ],
      "text/plain": [
       "   Freq Absoluta  Freq Relativa (%)\n",
       "E          49755          64.751432\n",
       "D          18602          24.208745\n",
       "C           7241           9.423477\n",
       "B            822           1.069755\n",
       "A            420           0.546590"
      ]
     },
     "execution_count": 11,
     "metadata": {},
     "output_type": "execute_result"
    }
   ],
   "source": [
    "# Cria uma tabela com as distribuições de frequências\n",
    "distribuicao_freq = pd.DataFrame(\n",
    "    {\n",
    "        'Freq Absoluta': tabela_freq_absoluta,\n",
    "        'Freq Relativa (%)': tabela_freq_relativa * 100\n",
    "    }\n",
    ")\n",
    "distribuicao_freq"
   ]
  },
  {
   "cell_type": "code",
   "execution_count": 12,
   "metadata": {
    "id": "ynIuSWIVVwwE"
   },
   "outputs": [],
   "source": [
    "distribuicao_freq.rename_axis('Classe de Renda', axis=1, inplace=True)"
   ]
  },
  {
   "cell_type": "code",
   "execution_count": 13,
   "metadata": {
    "id": "fxwNCa83WSmP"
   },
   "outputs": [],
   "source": [
    "distribuicao_freq.sort_index(axis= 0, ascending=True, inplace=True, key=lambda x: x.str.lower())"
   ]
  },
  {
   "cell_type": "code",
   "execution_count": 14,
   "metadata": {
    "colab": {
     "base_uri": "https://localhost:8080/",
     "height": 206
    },
    "id": "oywYNqLqXYci",
    "outputId": "932ff558-054a-4c5b-b928-a73c699dc1fb"
   },
   "outputs": [
    {
     "data": {
      "text/html": [
       "<div>\n",
       "<style scoped>\n",
       "    .dataframe tbody tr th:only-of-type {\n",
       "        vertical-align: middle;\n",
       "    }\n",
       "\n",
       "    .dataframe tbody tr th {\n",
       "        vertical-align: top;\n",
       "    }\n",
       "\n",
       "    .dataframe thead th {\n",
       "        text-align: right;\n",
       "    }\n",
       "</style>\n",
       "<table border=\"1\" class=\"dataframe\">\n",
       "  <thead>\n",
       "    <tr style=\"text-align: right;\">\n",
       "      <th>Classe de Renda</th>\n",
       "      <th>Freq Absoluta</th>\n",
       "      <th>Freq Relativa (%)</th>\n",
       "    </tr>\n",
       "  </thead>\n",
       "  <tbody>\n",
       "    <tr>\n",
       "      <th>A</th>\n",
       "      <td>420</td>\n",
       "      <td>0.546590</td>\n",
       "    </tr>\n",
       "    <tr>\n",
       "      <th>B</th>\n",
       "      <td>822</td>\n",
       "      <td>1.069755</td>\n",
       "    </tr>\n",
       "    <tr>\n",
       "      <th>C</th>\n",
       "      <td>7241</td>\n",
       "      <td>9.423477</td>\n",
       "    </tr>\n",
       "    <tr>\n",
       "      <th>D</th>\n",
       "      <td>18602</td>\n",
       "      <td>24.208745</td>\n",
       "    </tr>\n",
       "    <tr>\n",
       "      <th>E</th>\n",
       "      <td>49755</td>\n",
       "      <td>64.751432</td>\n",
       "    </tr>\n",
       "  </tbody>\n",
       "</table>\n",
       "</div>"
      ],
      "text/plain": [
       "Classe de Renda  Freq Absoluta  Freq Relativa (%)\n",
       "A                          420           0.546590\n",
       "B                          822           1.069755\n",
       "C                         7241           9.423477\n",
       "D                        18602          24.208745\n",
       "E                        49755          64.751432"
      ]
     },
     "execution_count": 14,
     "metadata": {},
     "output_type": "execute_result"
    }
   ],
   "source": [
    "distribuicao_freq"
   ]
  },
  {
   "cell_type": "code",
   "execution_count": 15,
   "metadata": {
    "colab": {
     "base_uri": "https://localhost:8080/",
     "height": 561
    },
    "id": "bJj-RdywXb4B",
    "outputId": "970f8584-27e9-4d98-e832-82428df5ded8"
   },
   "outputs": [
    {
     "data": {
      "image/png": "[encoded data removed]",
      "text/plain": [
       "<Figure size 1200x600 with 1 Axes>"
      ]
     },
     "metadata": {},
     "output_type": "display_data"
    }
   ],
   "source": [
    "from matplotlib import pyplot as plt\n",
    "\n",
    "\n",
    "def adicionar_rotulos_dados(x, y):\n",
    "  \"\"\"Adiciona rótulos de dados no gráfico\"\"\"\n",
    "  for i in range(len(x)):\n",
    "    plt.text(i, y[i] + 500, y[i], ha='center')\n",
    "\n",
    "\n",
    "# Define o tamanho da figura\n",
    "plt.figure(figsize=(12,6))\n",
    "\n",
    "# Plota um gráfico de barras\n",
    "distribuicao_freq['Freq Absoluta'].plot.bar(alpha=0.85)\n",
    "\n",
    "# Adiciona os rótulos de dados\n",
    "adicionar_rotulos_dados(x=distribuicao_freq.index, y=distribuicao_freq['Freq Absoluta'])\n",
    "\n",
    "# Título do gráfico\n",
    "plt.title('Distribuição de Frequências para Classes de Renda')\n",
    "\n",
    "# Rótulo do eixo x\n",
    "plt.xlabel('Classe de Renda')\n",
    "\n",
    "# Rótulo do eixo y\n",
    "plt.ylabel('Freq. Absoluta')\n",
    "\n",
    "# Linha de grade\n",
    "plt.grid(visible=False)\n",
    "\n",
    "# Exibe a figura\n",
    "plt.show()"
   ]
  },
  {
   "cell_type": "markdown",
   "metadata": {
    "id": "OSkpYflacLmK"
   },
   "source": [
    "#### Conclusões"
   ]
  },
  {
   "cell_type": "markdown",
   "metadata": {
    "id": "FJTkOxqHcOHb"
   },
   "source": [
    "A maioria das pessoas entrevistadas (64,75%) pertence à classe E, que é a das pessoas que ganham até 2 (dois) salários mínimos.\n",
    "\n",
    "É possível observar que há uma quantidade descrescente de pessoas que percentem às classes subsequentes, o que indica que uma pequena parcela dos entrevistados ganham altos salários."
   ]
  },
  {
   "cell_type": "markdown",
   "metadata": {
    "id": "SvEf1Amufgfl"
   },
   "source": [
    "### Tabelas de Contingência para Sexo e Cor"
   ]
  },
  {
   "cell_type": "code",
   "execution_count": 16,
   "metadata": {
    "id": "GQuCFH2Fft71"
   },
   "outputs": [],
   "source": [
    "# Dicionário com os significados dos códigos dos sexos\n",
    "sexo = {\n",
    "    0: 'Masculino',\n",
    "    1: 'Feminino'\n",
    "}\n",
    "\n",
    "# Dicionário com os significados dos códigos das cores\n",
    "cor = {\n",
    "    0: 'Indígena',\n",
    "    2: 'Branca',\n",
    "    4: 'Preta',\n",
    "    6: 'Amarela',\n",
    "    8: 'Parda',\n",
    "    9: 'Sem declaração'\n",
    "}"
   ]
  },
  {
   "cell_type": "code",
   "execution_count": 17,
   "metadata": {
    "colab": {
     "base_uri": "https://localhost:8080/",
     "height": 175
    },
    "id": "nThaDiWdgCUQ",
    "outputId": "6fc7e436-2235-4739-a2ac-e88f27717588"
   },
   "outputs": [
    {
     "data": {
      "text/html": [
       "<div>\n",
       "<style scoped>\n",
       "    .dataframe tbody tr th:only-of-type {\n",
       "        vertical-align: middle;\n",
       "    }\n",
       "\n",
       "    .dataframe tbody tr th {\n",
       "        vertical-align: top;\n",
       "    }\n",
       "\n",
       "    .dataframe thead th {\n",
       "        text-align: right;\n",
       "    }\n",
       "</style>\n",
       "<table border=\"1\" class=\"dataframe\">\n",
       "  <thead>\n",
       "    <tr style=\"text-align: right;\">\n",
       "      <th>Cor</th>\n",
       "      <th>0</th>\n",
       "      <th>2</th>\n",
       "      <th>4</th>\n",
       "      <th>6</th>\n",
       "      <th>8</th>\n",
       "      <th>Total</th>\n",
       "    </tr>\n",
       "    <tr>\n",
       "      <th>Sexo</th>\n",
       "      <th></th>\n",
       "      <th></th>\n",
       "      <th></th>\n",
       "      <th></th>\n",
       "      <th></th>\n",
       "      <th></th>\n",
       "    </tr>\n",
       "  </thead>\n",
       "  <tbody>\n",
       "    <tr>\n",
       "      <th>0</th>\n",
       "      <td>256</td>\n",
       "      <td>22194</td>\n",
       "      <td>5502</td>\n",
       "      <td>235</td>\n",
       "      <td>25063</td>\n",
       "      <td>53250</td>\n",
       "    </tr>\n",
       "    <tr>\n",
       "      <th>1</th>\n",
       "      <td>101</td>\n",
       "      <td>9621</td>\n",
       "      <td>2889</td>\n",
       "      <td>117</td>\n",
       "      <td>10862</td>\n",
       "      <td>23590</td>\n",
       "    </tr>\n",
       "    <tr>\n",
       "      <th>Total</th>\n",
       "      <td>357</td>\n",
       "      <td>31815</td>\n",
       "      <td>8391</td>\n",
       "      <td>352</td>\n",
       "      <td>35925</td>\n",
       "      <td>76840</td>\n",
       "    </tr>\n",
       "  </tbody>\n",
       "</table>\n",
       "</div>"
      ],
      "text/plain": [
       "Cor      0      2     4    6      8  Total\n",
       "Sexo                                      \n",
       "0      256  22194  5502  235  25063  53250\n",
       "1      101   9621  2889  117  10862  23590\n",
       "Total  357  31815  8391  352  35925  76840"
      ]
     },
     "execution_count": 17,
     "metadata": {},
     "output_type": "execute_result"
    }
   ],
   "source": [
    "# Cria uma tabela de contingência de frequências absolutas\n",
    "tabela_contingencia_sexo_cor = pd.crosstab(\n",
    "    index=dados['Sexo'],\n",
    "    columns=dados['Cor'],\n",
    "    margins=True,\n",
    "    margins_name='Total'\n",
    "  )\n",
    "tabela_contingencia_sexo_cor"
   ]
  },
  {
   "cell_type": "code",
   "execution_count": 18,
   "metadata": {
    "colab": {
     "base_uri": "https://localhost:8080/",
     "height": 175
    },
    "id": "gcWsKtLhg6bj",
    "outputId": "05546a6f-db05-41f5-f418-8cd088968c0d"
   },
   "outputs": [
    {
     "data": {
      "text/html": [
       "<div>\n",
       "<style scoped>\n",
       "    .dataframe tbody tr th:only-of-type {\n",
       "        vertical-align: middle;\n",
       "    }\n",
       "\n",
       "    .dataframe tbody tr th {\n",
       "        vertical-align: top;\n",
       "    }\n",
       "\n",
       "    .dataframe thead th {\n",
       "        text-align: right;\n",
       "    }\n",
       "</style>\n",
       "<table border=\"1\" class=\"dataframe\">\n",
       "  <thead>\n",
       "    <tr style=\"text-align: right;\">\n",
       "      <th>Cor</th>\n",
       "      <th>Indígena</th>\n",
       "      <th>Branca</th>\n",
       "      <th>Preta</th>\n",
       "      <th>Amarela</th>\n",
       "      <th>Parda</th>\n",
       "      <th>Total</th>\n",
       "    </tr>\n",
       "    <tr>\n",
       "      <th>Sexo</th>\n",
       "      <th></th>\n",
       "      <th></th>\n",
       "      <th></th>\n",
       "      <th></th>\n",
       "      <th></th>\n",
       "      <th></th>\n",
       "    </tr>\n",
       "  </thead>\n",
       "  <tbody>\n",
       "    <tr>\n",
       "      <th>Masculino</th>\n",
       "      <td>256</td>\n",
       "      <td>22194</td>\n",
       "      <td>5502</td>\n",
       "      <td>235</td>\n",
       "      <td>25063</td>\n",
       "      <td>53250</td>\n",
       "    </tr>\n",
       "    <tr>\n",
       "      <th>Feminino</th>\n",
       "      <td>101</td>\n",
       "      <td>9621</td>\n",
       "      <td>2889</td>\n",
       "      <td>117</td>\n",
       "      <td>10862</td>\n",
       "      <td>23590</td>\n",
       "    </tr>\n",
       "    <tr>\n",
       "      <th>Total</th>\n",
       "      <td>357</td>\n",
       "      <td>31815</td>\n",
       "      <td>8391</td>\n",
       "      <td>352</td>\n",
       "      <td>35925</td>\n",
       "      <td>76840</td>\n",
       "    </tr>\n",
       "  </tbody>\n",
       "</table>\n",
       "</div>"
      ],
      "text/plain": [
       "Cor        Indígena  Branca  Preta  Amarela  Parda  Total\n",
       "Sexo                                                     \n",
       "Masculino       256   22194   5502      235  25063  53250\n",
       "Feminino        101    9621   2889      117  10862  23590\n",
       "Total           357   31815   8391      352  35925  76840"
      ]
     },
     "execution_count": 18,
     "metadata": {},
     "output_type": "execute_result"
    }
   ],
   "source": [
    "# Renomeia os índices e as colunas da tabela\n",
    "tabela_contingencia_sexo_cor.rename(index=sexo, columns=cor, inplace=True)\n",
    "tabela_contingencia_sexo_cor"
   ]
  },
  {
   "cell_type": "code",
   "execution_count": 19,
   "metadata": {
    "colab": {
     "base_uri": "https://localhost:8080/",
     "height": 175
    },
    "id": "phXN2myPitNJ",
    "outputId": "f8af5511-53ec-43f9-cd5b-baf09fa44a04"
   },
   "outputs": [
    {
     "data": {
      "text/html": [
       "<div>\n",
       "<style scoped>\n",
       "    .dataframe tbody tr th:only-of-type {\n",
       "        vertical-align: middle;\n",
       "    }\n",
       "\n",
       "    .dataframe tbody tr th {\n",
       "        vertical-align: top;\n",
       "    }\n",
       "\n",
       "    .dataframe thead th {\n",
       "        text-align: right;\n",
       "    }\n",
       "</style>\n",
       "<table border=\"1\" class=\"dataframe\">\n",
       "  <thead>\n",
       "    <tr style=\"text-align: right;\">\n",
       "      <th>Cor</th>\n",
       "      <th>0</th>\n",
       "      <th>2</th>\n",
       "      <th>4</th>\n",
       "      <th>6</th>\n",
       "      <th>8</th>\n",
       "      <th>Total</th>\n",
       "    </tr>\n",
       "    <tr>\n",
       "      <th>Sexo</th>\n",
       "      <th></th>\n",
       "      <th></th>\n",
       "      <th></th>\n",
       "      <th></th>\n",
       "      <th></th>\n",
       "      <th></th>\n",
       "    </tr>\n",
       "  </thead>\n",
       "  <tbody>\n",
       "    <tr>\n",
       "      <th>0</th>\n",
       "      <td>0.003332</td>\n",
       "      <td>0.288834</td>\n",
       "      <td>0.071603</td>\n",
       "      <td>0.003058</td>\n",
       "      <td>0.326171</td>\n",
       "      <td>0.692998</td>\n",
       "    </tr>\n",
       "    <tr>\n",
       "      <th>1</th>\n",
       "      <td>0.001314</td>\n",
       "      <td>0.125208</td>\n",
       "      <td>0.037598</td>\n",
       "      <td>0.001523</td>\n",
       "      <td>0.141359</td>\n",
       "      <td>0.307002</td>\n",
       "    </tr>\n",
       "    <tr>\n",
       "      <th>Total</th>\n",
       "      <td>0.004646</td>\n",
       "      <td>0.414042</td>\n",
       "      <td>0.109201</td>\n",
       "      <td>0.004581</td>\n",
       "      <td>0.467530</td>\n",
       "      <td>1.000000</td>\n",
       "    </tr>\n",
       "  </tbody>\n",
       "</table>\n",
       "</div>"
      ],
      "text/plain": [
       "Cor           0         2         4         6         8     Total\n",
       "Sexo                                                             \n",
       "0      0.003332  0.288834  0.071603  0.003058  0.326171  0.692998\n",
       "1      0.001314  0.125208  0.037598  0.001523  0.141359  0.307002\n",
       "Total  0.004646  0.414042  0.109201  0.004581  0.467530  1.000000"
      ]
     },
     "execution_count": 19,
     "metadata": {},
     "output_type": "execute_result"
    }
   ],
   "source": [
    "tabela_contingencia_relativa_sexo_cor = pd.crosstab(\n",
    "    index=dados['Sexo'],\n",
    "    columns=dados['Cor'],\n",
    "    margins=True,\n",
    "    margins_name='Total',\n",
    "    normalize='all'\n",
    "  )\n",
    "tabela_contingencia_relativa_sexo_cor"
   ]
  },
  {
   "cell_type": "code",
   "execution_count": 20,
   "metadata": {
    "colab": {
     "base_uri": "https://localhost:8080/",
     "height": 175
    },
    "id": "46Yw_fDmi3jy",
    "outputId": "4a266014-093f-4025-a146-3f99bde82517"
   },
   "outputs": [
    {
     "data": {
      "text/html": [
       "<div>\n",
       "<style scoped>\n",
       "    .dataframe tbody tr th:only-of-type {\n",
       "        vertical-align: middle;\n",
       "    }\n",
       "\n",
       "    .dataframe tbody tr th {\n",
       "        vertical-align: top;\n",
       "    }\n",
       "\n",
       "    .dataframe thead th {\n",
       "        text-align: right;\n",
       "    }\n",
       "</style>\n",
       "<table border=\"1\" class=\"dataframe\">\n",
       "  <thead>\n",
       "    <tr style=\"text-align: right;\">\n",
       "      <th>Cor</th>\n",
       "      <th>Indígena</th>\n",
       "      <th>Branca</th>\n",
       "      <th>Preta</th>\n",
       "      <th>Amarela</th>\n",
       "      <th>Parda</th>\n",
       "      <th>Total</th>\n",
       "    </tr>\n",
       "    <tr>\n",
       "      <th>Sexo</th>\n",
       "      <th></th>\n",
       "      <th></th>\n",
       "      <th></th>\n",
       "      <th></th>\n",
       "      <th></th>\n",
       "      <th></th>\n",
       "    </tr>\n",
       "  </thead>\n",
       "  <tbody>\n",
       "    <tr>\n",
       "      <th>Masculino</th>\n",
       "      <td>0.003332</td>\n",
       "      <td>0.288834</td>\n",
       "      <td>0.071603</td>\n",
       "      <td>0.003058</td>\n",
       "      <td>0.326171</td>\n",
       "      <td>0.692998</td>\n",
       "    </tr>\n",
       "    <tr>\n",
       "      <th>Feminino</th>\n",
       "      <td>0.001314</td>\n",
       "      <td>0.125208</td>\n",
       "      <td>0.037598</td>\n",
       "      <td>0.001523</td>\n",
       "      <td>0.141359</td>\n",
       "      <td>0.307002</td>\n",
       "    </tr>\n",
       "    <tr>\n",
       "      <th>Total</th>\n",
       "      <td>0.004646</td>\n",
       "      <td>0.414042</td>\n",
       "      <td>0.109201</td>\n",
       "      <td>0.004581</td>\n",
       "      <td>0.467530</td>\n",
       "      <td>1.000000</td>\n",
       "    </tr>\n",
       "  </tbody>\n",
       "</table>\n",
       "</div>"
      ],
      "text/plain": [
       "Cor        Indígena    Branca     Preta   Amarela     Parda     Total\n",
       "Sexo                                                                 \n",
       "Masculino  0.003332  0.288834  0.071603  0.003058  0.326171  0.692998\n",
       "Feminino   0.001314  0.125208  0.037598  0.001523  0.141359  0.307002\n",
       "Total      0.004646  0.414042  0.109201  0.004581  0.467530  1.000000"
      ]
     },
     "execution_count": 20,
     "metadata": {},
     "output_type": "execute_result"
    }
   ],
   "source": [
    "tabela_contingencia_relativa_sexo_cor.rename(index=sexo, columns=cor, inplace=True)\n",
    "tabela_contingencia_relativa_sexo_cor"
   ]
  },
  {
   "cell_type": "markdown",
   "metadata": {
    "id": "RM-PltRHjKo0"
   },
   "source": [
    "#### Conclusões"
   ]
  },
  {
   "cell_type": "markdown",
   "metadata": {
    "id": "isoMxkABjMsD"
   },
   "source": [
    "A maior parte dos entrevistados (69,29%) eram homens, dos quais a maioria eram da cor parda (32,51%).\n",
    "\n",
    "A maior parte dos entrevistados, incluindo homens e mulheres, eram pardos (46,75%)."
   ]
  },
  {
   "cell_type": "markdown",
   "metadata": {
    "id": "6B83oIZ0kI3l"
   },
   "source": [
    "### Medidas de Tendência Central e de Dispersão para a Renda"
   ]
  },
  {
   "cell_type": "code",
   "execution_count": 21,
   "metadata": {
    "colab": {
     "base_uri": "https://localhost:8080/"
    },
    "id": "__TATH9HjL6y",
    "outputId": "685e6eb5-e8e1-418f-870d-642d2d034a58"
   },
   "outputs": [
    {
     "data": {
      "text/plain": [
       "2000.3831988547631"
      ]
     },
     "execution_count": 21,
     "metadata": {},
     "output_type": "execute_result"
    }
   ],
   "source": [
    "# Média da renda\n",
    "renda_media = dados['Renda'].mean()\n",
    "renda_media"
   ]
  },
  {
   "cell_type": "code",
   "execution_count": 22,
   "metadata": {
    "colab": {
     "base_uri": "https://localhost:8080/"
    },
    "id": "vJYj25OEkcKS",
    "outputId": "89e06ca9-ce1c-46f1-b57e-0e5e9532a54d"
   },
   "outputs": [
    {
     "data": {
      "text/plain": [
       "1200.0"
      ]
     },
     "execution_count": 22,
     "metadata": {},
     "output_type": "execute_result"
    }
   ],
   "source": [
    "# Renda mediana\n",
    "renda_mediana = dados['Renda'].median()\n",
    "renda_mediana"
   ]
  },
  {
   "cell_type": "code",
   "execution_count": 23,
   "metadata": {
    "colab": {
     "base_uri": "https://localhost:8080/"
    },
    "id": "7G3NMn0ikhHR",
    "outputId": "e75337fc-3b37-4983-d6b7-60abbe00a5b9"
   },
   "outputs": [
    {
     "data": {
      "text/plain": [
       "788"
      ]
     },
     "execution_count": 23,
     "metadata": {},
     "output_type": "execute_result"
    }
   ],
   "source": [
    "# Renda modal\n",
    "renda_modal = dados['Renda'].mode()[0]\n",
    "renda_modal"
   ]
  },
  {
   "cell_type": "code",
   "execution_count": 24,
   "metadata": {
    "colab": {
     "base_uri": "https://localhost:8080/"
    },
    "id": "xH5oa7_glY6N",
    "outputId": "264807b3-937b-414d-bd0e-687bfa88b007"
   },
   "outputs": [
    {
     "data": {
      "text/plain": [
       "True"
      ]
     },
     "execution_count": 24,
     "metadata": {},
     "output_type": "execute_result"
    }
   ],
   "source": [
    "renda_media > renda_mediana > renda_modal"
   ]
  },
  {
   "cell_type": "markdown",
   "metadata": {
    "id": "z021DSxtlh7L"
   },
   "source": [
    "Como `renda_media > renda_mediana > renda_modal`, a distribuição da variável renda tem uma assimetria à direita, sugerindo que há uma concentração elevada de valores de renda baixos."
   ]
  },
  {
   "cell_type": "code",
   "execution_count": 25,
   "metadata": {
    "colab": {
     "base_uri": "https://localhost:8080/"
    },
    "id": "ibbNWMWnklOo",
    "outputId": "6b77e480-e841-40c5-d7db-9761c2cbe115"
   },
   "outputs": [
    {
     "data": {
      "text/plain": [
       "1526.4951371638058"
      ]
     },
     "execution_count": 25,
     "metadata": {},
     "output_type": "execute_result"
    }
   ],
   "source": [
    "# Desvio absoluto média da renda\n",
    "dam_renda = (dados['Renda'] - dados['Renda'].mean()).abs().mean()\n",
    "dam_renda"
   ]
  },
  {
   "cell_type": "code",
   "execution_count": 26,
   "metadata": {
    "colab": {
     "base_uri": "https://localhost:8080/"
    },
    "id": "9Vg8rH7Qktum",
    "outputId": "6d11badb-816b-4c66-d7e5-dd8f2692b0c8"
   },
   "outputs": [
    {
     "data": {
      "text/plain": [
       "11044906.00622118"
      ]
     },
     "execution_count": 26,
     "metadata": {},
     "output_type": "execute_result"
    }
   ],
   "source": [
    "# Variância da renda\n",
    "variancia_renda = dados['Renda'].var()\n",
    "variancia_renda"
   ]
  },
  {
   "cell_type": "code",
   "execution_count": 27,
   "metadata": {
    "colab": {
     "base_uri": "https://localhost:8080/"
    },
    "id": "HToaZkxzlHEo",
    "outputId": "e61e3a7f-3ea0-4541-af6a-31c79fcdebdc"
   },
   "outputs": [
    {
     "data": {
      "text/plain": [
       "3323.3877303470294"
      ]
     },
     "execution_count": 27,
     "metadata": {},
     "output_type": "execute_result"
    }
   ],
   "source": [
    "# Desvio padrão da renda\n",
    "desvio_padrao_renda = dados['Renda'].std()\n",
    "desvio_padrao_renda"
   ]
  },
  {
   "cell_type": "code",
   "execution_count": 28,
   "metadata": {
    "colab": {
     "base_uri": "https://localhost:8080/",
     "height": 269
    },
    "id": "-tzMEXGMlQrH",
    "outputId": "162b62c8-210a-49ee-e980-ed2942d433b5"
   },
   "outputs": [
    {
     "data": {
      "text/html": [
       "<div>\n",
       "<style scoped>\n",
       "    .dataframe tbody tr th:only-of-type {\n",
       "        vertical-align: middle;\n",
       "    }\n",
       "\n",
       "    .dataframe tbody tr th {\n",
       "        vertical-align: top;\n",
       "    }\n",
       "\n",
       "    .dataframe thead tr th {\n",
       "        text-align: left;\n",
       "    }\n",
       "\n",
       "    .dataframe thead tr:last-of-type th {\n",
       "        text-align: right;\n",
       "    }\n",
       "</style>\n",
       "<table border=\"1\" class=\"dataframe\">\n",
       "  <thead>\n",
       "    <tr>\n",
       "      <th></th>\n",
       "      <th colspan=\"2\" halign=\"left\">Média</th>\n",
       "      <th colspan=\"2\" halign=\"left\">Mediana</th>\n",
       "      <th colspan=\"2\" halign=\"left\">Máximo</th>\n",
       "    </tr>\n",
       "    <tr>\n",
       "      <th>Sexo</th>\n",
       "      <th>Masculino</th>\n",
       "      <th>Feminino</th>\n",
       "      <th>Masculino</th>\n",
       "      <th>Feminino</th>\n",
       "      <th>Masculino</th>\n",
       "      <th>Feminino</th>\n",
       "    </tr>\n",
       "    <tr>\n",
       "      <th>Cor</th>\n",
       "      <th></th>\n",
       "      <th></th>\n",
       "      <th></th>\n",
       "      <th></th>\n",
       "      <th></th>\n",
       "      <th></th>\n",
       "    </tr>\n",
       "  </thead>\n",
       "  <tbody>\n",
       "    <tr>\n",
       "      <th>Indígena</th>\n",
       "      <td>1081.710938</td>\n",
       "      <td>2464.386139</td>\n",
       "      <td>797.5</td>\n",
       "      <td>788.0</td>\n",
       "      <td>10000</td>\n",
       "      <td>120000</td>\n",
       "    </tr>\n",
       "    <tr>\n",
       "      <th>Branca</th>\n",
       "      <td>2925.744435</td>\n",
       "      <td>2109.866750</td>\n",
       "      <td>1700.0</td>\n",
       "      <td>1200.0</td>\n",
       "      <td>200000</td>\n",
       "      <td>100000</td>\n",
       "    </tr>\n",
       "    <tr>\n",
       "      <th>Preta</th>\n",
       "      <td>1603.861687</td>\n",
       "      <td>1134.596400</td>\n",
       "      <td>1200.0</td>\n",
       "      <td>800.0</td>\n",
       "      <td>50000</td>\n",
       "      <td>23000</td>\n",
       "    </tr>\n",
       "    <tr>\n",
       "      <th>Amarela</th>\n",
       "      <td>4758.251064</td>\n",
       "      <td>3027.341880</td>\n",
       "      <td>2800.0</td>\n",
       "      <td>1500.0</td>\n",
       "      <td>50000</td>\n",
       "      <td>20000</td>\n",
       "    </tr>\n",
       "    <tr>\n",
       "      <th>Parda</th>\n",
       "      <td>1659.577425</td>\n",
       "      <td>1176.758516</td>\n",
       "      <td>1200.0</td>\n",
       "      <td>800.0</td>\n",
       "      <td>100000</td>\n",
       "      <td>30000</td>\n",
       "    </tr>\n",
       "  </tbody>\n",
       "</table>\n",
       "</div>"
      ],
      "text/plain": [
       "                Média                Mediana             Máximo         \n",
       "Sexo        Masculino     Feminino Masculino Feminino Masculino Feminino\n",
       "Cor                                                                     \n",
       "Indígena  1081.710938  2464.386139     797.5    788.0     10000   120000\n",
       "Branca    2925.744435  2109.866750    1700.0   1200.0    200000   100000\n",
       "Preta     1603.861687  1134.596400    1200.0    800.0     50000    23000\n",
       "Amarela   4758.251064  3027.341880    2800.0   1500.0     50000    20000\n",
       "Parda     1659.577425  1176.758516    1200.0    800.0    100000    30000"
      ]
     },
     "execution_count": 28,
     "metadata": {},
     "output_type": "execute_result"
    }
   ],
   "source": [
    "tabela_contingencia_sexo_cor_renda = pd.crosstab(\n",
    "    index=dados['Cor'],\n",
    "    columns=dados['Sexo'],\n",
    "    values=dados['Renda'],\n",
    "    aggfunc=['mean', 'median', 'max'],\n",
    ")\n",
    "tabela_contingencia_sexo_cor_renda.rename(\n",
    "    index=cor,\n",
    "    columns={\n",
    "        0: 'Masculino',\n",
    "        1: 'Feminino',\n",
    "        'mean': 'Média',\n",
    "        'median': 'Mediana',\n",
    "        'max': 'Máximo'\n",
    "        }\n",
    "    )"
   ]
  },
  {
   "cell_type": "code",
   "execution_count": 29,
   "metadata": {
    "colab": {
     "base_uri": "https://localhost:8080/",
     "height": 269
    },
    "id": "KeKcQ8dKgZT_",
    "outputId": "f293ac2e-363c-4a1f-a447-8e38e89c8e8b"
   },
   "outputs": [
    {
     "data": {
      "text/html": [
       "<div>\n",
       "<style scoped>\n",
       "    .dataframe tbody tr th:only-of-type {\n",
       "        vertical-align: middle;\n",
       "    }\n",
       "\n",
       "    .dataframe tbody tr th {\n",
       "        vertical-align: top;\n",
       "    }\n",
       "\n",
       "    .dataframe thead tr th {\n",
       "        text-align: left;\n",
       "    }\n",
       "\n",
       "    .dataframe thead tr:last-of-type th {\n",
       "        text-align: right;\n",
       "    }\n",
       "</style>\n",
       "<table border=\"1\" class=\"dataframe\">\n",
       "  <thead>\n",
       "    <tr>\n",
       "      <th></th>\n",
       "      <th colspan=\"2\" halign=\"left\">Desvio Padrão</th>\n",
       "    </tr>\n",
       "    <tr>\n",
       "      <th>Sexo</th>\n",
       "      <th>Masculino</th>\n",
       "      <th>Feminino</th>\n",
       "    </tr>\n",
       "    <tr>\n",
       "      <th>Cor</th>\n",
       "      <th></th>\n",
       "      <th></th>\n",
       "    </tr>\n",
       "  </thead>\n",
       "  <tbody>\n",
       "    <tr>\n",
       "      <th>Indígena</th>\n",
       "      <td>1204.09</td>\n",
       "      <td>11957.50</td>\n",
       "    </tr>\n",
       "    <tr>\n",
       "      <th>Branca</th>\n",
       "      <td>4750.79</td>\n",
       "      <td>3251.01</td>\n",
       "    </tr>\n",
       "    <tr>\n",
       "      <th>Preta</th>\n",
       "      <td>1936.31</td>\n",
       "      <td>1349.80</td>\n",
       "    </tr>\n",
       "    <tr>\n",
       "      <th>Amarela</th>\n",
       "      <td>5740.82</td>\n",
       "      <td>3731.17</td>\n",
       "    </tr>\n",
       "    <tr>\n",
       "      <th>Parda</th>\n",
       "      <td>2312.09</td>\n",
       "      <td>1596.23</td>\n",
       "    </tr>\n",
       "  </tbody>\n",
       "</table>\n",
       "</div>"
      ],
      "text/plain": [
       "         Desvio Padrão          \n",
       "Sexo         Masculino  Feminino\n",
       "Cor                             \n",
       "Indígena       1204.09  11957.50\n",
       "Branca         4750.79   3251.01\n",
       "Preta          1936.31   1349.80\n",
       "Amarela        5740.82   3731.17\n",
       "Parda          2312.09   1596.23"
      ]
     },
     "execution_count": 29,
     "metadata": {},
     "output_type": "execute_result"
    }
   ],
   "source": [
    "tabela_contingencia_sexo_cor_renda_dispersao = pd.crosstab(\n",
    "    index=dados['Cor'],\n",
    "    columns=dados['Sexo'],\n",
    "    values=dados['Renda'],\n",
    "    aggfunc=['std']\n",
    ")\n",
    "tabela_contingencia_sexo_cor_renda_dispersao.rename(\n",
    "    index=cor,\n",
    "    columns={\n",
    "        0: 'Masculino',\n",
    "        1: 'Feminino',\n",
    "        'std': 'Desvio Padrão'\n",
    "        },\n",
    "    inplace=True\n",
    "    )\n",
    "tabela_contingencia_sexo_cor_renda_dispersao.round(2)"
   ]
  },
  {
   "cell_type": "markdown",
   "metadata": {
    "id": "vRXISCcwgR3R"
   },
   "source": [
    "#### Conclusões"
   ]
  },
  {
   "cell_type": "markdown",
   "metadata": {
    "id": "ZU7GiDtfeQ6S"
   },
   "source": [
    "No geral, os homens de todas as raças têm salários médios maiores que os das mulheres, exceto entre os indígenas. Esta exceção pode ser explicada por um registro de renda de R$120.000,00 entre as mulheres indígenas, o que deve ter elevado a renda média das mulheres indígenas.\n",
    "\n",
    "Em termos de renda mediana, homens e mulheres amarelos têm os maiores salários, ao passo que os indígenas têm os menores salários.\n",
    "\n",
    "O maior valor de renda (R$200.000,00) foi registrado para homens da cor branca.\n",
    "\n",
    "Entre os homens, há maior dispersão nos valores de renda para os amarelos e menor dispersão para os indígenas.\n",
    "\n",
    "Entre as mulheres, há maior dispersão nos valores de renda para as indígenas e menor dispersão para as pretas."
   ]
  },
  {
   "cell_type": "markdown",
   "metadata": {
    "id": "rUKeZK2mjz2d"
   },
   "source": [
    "### Diagramas de Caixa para a Renda"
   ]
  },
  {
   "cell_type": "code",
   "execution_count": 30,
   "metadata": {
    "colab": {
     "base_uri": "https://localhost:8080/",
     "height": 744
    },
    "id": "4lUeoNQDgOIG",
    "outputId": "6a1e7994-abb2-4177-862e-7906b0c1f687"
   },
   "outputs": [
    {
     "data": {
      "text/plain": [
       "<Axes: title={'center': 'Renda por Cor e Sexo'}, xlabel='Renda (R$)', ylabel='Cor'>"
      ]
     },
     "execution_count": 30,
     "metadata": {},
     "output_type": "execute_result"
    },
    {
     "data": {
      "image/png": "[encoded data removed]",
      "text/plain": [
       "<Figure size 1400x800 with 1 Axes>"
      ]
     },
     "metadata": {},
     "output_type": "display_data"
    }
   ],
   "source": [
    "# Cria um diagrama de caixa (boxplot) para a variável renda\n",
    "# Utiliza somente as observações em que a renda era inferior a R$ 10 mil\n",
    "ax = sns.boxplot(\n",
    "    data=dados.query('Renda < 10000'),\n",
    "    x='Renda',\n",
    "    y='Cor',\n",
    "    hue='Sexo',\n",
    "    orient='h'\n",
    "  )\n",
    "\n",
    "# Define as dimensões da figura\n",
    "ax.figure.set_size_inches(14, 8)\n",
    "\n",
    "# Define o título\n",
    "ax.set_title('Renda por Cor e Sexo', fontsize=18)\n",
    "\n",
    "# Define o título do eixo x\n",
    "ax.set_xlabel('Renda (R$)', fontsize=12)\n",
    "\n",
    "# Define o título do eixo y\n",
    "ax.set_ylabel('Cor', fontsize=12)\n",
    "\n",
    "# Muda os marcores do eixo y\n",
    "ax.set_yticklabels(['Indígena', 'Branca', 'Preta', 'Amarela', 'Parda'], fontsize=12)\n",
    "\n",
    "# Obtém os identificadores e os rótulos da legenda do gráfico\n",
    "identificadores, rotulos = ax.get_legend_handles_labels()\n",
    "\n",
    "# Configura a legenda do gráfico\n",
    "ax.legend(handles=identificadores, labels=['Masculino', 'Feminino'])\n",
    "\n",
    "# Exibe o gráfico\n",
    "ax"
   ]
  },
  {
   "cell_type": "markdown",
   "metadata": {
    "id": "h9NrLOlQmpPS"
   },
   "source": [
    "#### Conclusões"
   ]
  },
  {
   "cell_type": "markdown",
   "metadata": {
    "id": "jmD-rvopmrRb"
   },
   "source": [
    "Com este diagrama podemos notar que, no geral, a renda dos homens é superior a das mulheres.\n",
    "\n",
    "Nota-se também que há maior dispersão nos valores de renda de homens e mulheres amarelos do que nos valores de renda de pessoas de outras raças."
   ]
  },
  {
   "cell_type": "markdown",
   "metadata": {
    "id": "U2uLluLvnMJ9"
   },
   "source": [
    "### Análise de Percentis para a Variável Renda"
   ]
  },
  {
   "cell_type": "code",
   "execution_count": 31,
   "metadata": {
    "colab": {
     "base_uri": "https://localhost:8080/"
    },
    "id": "kmnSRPBZnb7c",
    "outputId": "513b25f1-3941-4d4b-c0c7-8c2bf4ac8582"
   },
   "outputs": [
    {
     "data": {
      "text/plain": [
       "0.01        0.0\n",
       "0.02        0.0\n",
       "0.03        0.0\n",
       "0.04       50.0\n",
       "0.05      100.0\n",
       "         ...   \n",
       "0.95     6000.0\n",
       "0.96     7000.0\n",
       "0.97     8000.0\n",
       "0.98    10000.0\n",
       "0.99    15000.0\n",
       "Name: Renda, Length: 99, dtype: float64"
      ]
     },
     "execution_count": 31,
     "metadata": {},
     "output_type": "execute_result"
    }
   ],
   "source": [
    "# Series com os valores de renda para cada percentil\n",
    "percentis_renda = dados['Renda'].quantile([i / 100 for i in range(1, 100)])\n",
    "percentis_renda"
   ]
  },
  {
   "cell_type": "code",
   "execution_count": 32,
   "metadata": {
    "colab": {
     "base_uri": "https://localhost:8080/"
    },
    "id": "mIXcbVRsn3YK",
    "outputId": "b213f092-f1a2-4fcf-960d-96040e194cb1"
   },
   "outputs": [
    {
     "data": {
      "text/plain": [
       "0.01      0.0\n",
       "0.02      0.0\n",
       "0.03      0.0\n",
       "0.04     50.0\n",
       "0.05    100.0\n",
       "0.06    180.0\n",
       "0.07    200.0\n",
       "0.08    280.0\n",
       "0.09    300.0\n",
       "0.10    350.0\n",
       "0.11    400.0\n",
       "0.12    400.0\n",
       "0.13    480.0\n",
       "0.14    500.0\n",
       "0.15    500.0\n",
       "0.16    600.0\n",
       "0.17    600.0\n",
       "0.18    700.0\n",
       "0.19    700.0\n",
       "0.20    788.0\n",
       "0.21    788.0\n",
       "0.22    788.0\n",
       "0.23    788.0\n",
       "0.24    788.0\n",
       "0.25    788.0\n",
       "0.26    788.0\n",
       "0.27    788.0\n",
       "0.28    788.0\n",
       "Name: Renda, dtype: float64"
      ]
     },
     "execution_count": 32,
     "metadata": {},
     "output_type": "execute_result"
    }
   ],
   "source": [
    "# Qual é o percentual de entrevistados da PNAD 2015 que ganham até 1 (um) salário mínimo?\n",
    "percentis_renda[percentis_renda <= 788]"
   ]
  },
  {
   "cell_type": "markdown",
   "metadata": {
    "id": "c4t_naN0oI6x"
   },
   "source": [
    "Observa-se que 28% dos entrevistados ganhavam até 1 (um) salário mínimo, que era de R$788,00."
   ]
  },
  {
   "cell_type": "code",
   "execution_count": 33,
   "metadata": {
    "colab": {
     "base_uri": "https://localhost:8080/"
    },
    "id": "u_Ka3exMoFRB",
    "outputId": "041ebcc4-93ec-4cb9-806d-a8c21281e63d"
   },
   "outputs": [
    {
     "data": {
      "text/plain": [
       "28.867777199375325"
      ]
     },
     "execution_count": 33,
     "metadata": {},
     "output_type": "execute_result"
    }
   ],
   "source": [
    "# Percentual de pessoas que ganham até R$788,00\n",
    "scipy.stats.percentileofscore(dados['Renda'], score=788, kind='weak')"
   ]
  },
  {
   "cell_type": "code",
   "execution_count": 34,
   "metadata": {
    "colab": {
     "base_uri": "https://localhost:8080/"
    },
    "id": "UTwZGt9zpmFn",
    "outputId": "9b7d0bc1-b650-4af3-c8e3-395de3951bab"
   },
   "outputs": [
    {
     "data": {
      "text/plain": [
       "15000.0"
      ]
     },
     "execution_count": 34,
     "metadata": {},
     "output_type": "execute_result"
    }
   ],
   "source": [
    "# Qual é o valor máximo ganho por 99% das pessoas do conjunto de dados?\n",
    "percentis_renda.loc[0.99]"
   ]
  },
  {
   "cell_type": "markdown",
   "metadata": {
    "id": "NGcEc__FqCuB"
   },
   "source": [
    "### Análise da Variável Renda Segundo Anos de Estudo"
   ]
  },
  {
   "cell_type": "code",
   "execution_count": 35,
   "metadata": {
    "id": "OVtNc-OLqy9e"
   },
   "outputs": [],
   "source": [
    "# Dicionário com as traduções dos códigos para nos de estudo\n",
    "anos_de_estudo = {\n",
    "    1: 'Sem instrução e menos de 1 ano',\n",
    "    2: '1 ano',\n",
    "    3: '2 anos',\n",
    "    4: '3 anos',\n",
    "    5: '4 anos',\n",
    "    6: '5 anos',\n",
    "    7: '6 anos',\n",
    "    8: '7 anos',\n",
    "    9: '8 anos',\n",
    "    10: '9 anos',\n",
    "    11: '10 anos',\n",
    "    12: '11 anos',\n",
    "    13: '12 anos',\n",
    "    14: '13 anos',\n",
    "    15: '14 anos',\n",
    "    16: '15 anos ou mais',\n",
    "    17: 'Não determinados'\n",
    "}"
   ]
  },
  {
   "cell_type": "code",
   "execution_count": 36,
   "metadata": {
    "colab": {
     "base_uri": "https://localhost:8080/",
     "height": 645
    },
    "id": "FxTl3JwrqIWz",
    "outputId": "cb45fde0-1247-4058-9aaa-4622807321c5"
   },
   "outputs": [
    {
     "data": {
      "text/html": [
       "<div>\n",
       "<style scoped>\n",
       "    .dataframe tbody tr th:only-of-type {\n",
       "        vertical-align: middle;\n",
       "    }\n",
       "\n",
       "    .dataframe tbody tr th {\n",
       "        vertical-align: top;\n",
       "    }\n",
       "\n",
       "    .dataframe thead tr th {\n",
       "        text-align: left;\n",
       "    }\n",
       "\n",
       "    .dataframe thead tr:last-of-type th {\n",
       "        text-align: right;\n",
       "    }\n",
       "</style>\n",
       "<table border=\"1\" class=\"dataframe\">\n",
       "  <thead>\n",
       "    <tr>\n",
       "      <th></th>\n",
       "      <th colspan=\"2\" halign=\"left\">Média</th>\n",
       "      <th colspan=\"2\" halign=\"left\">Mediana</th>\n",
       "      <th colspan=\"2\" halign=\"left\">Máximo</th>\n",
       "      <th colspan=\"2\" halign=\"left\">Desvio Padrão</th>\n",
       "    </tr>\n",
       "    <tr>\n",
       "      <th>Sexo</th>\n",
       "      <th>Masculino</th>\n",
       "      <th>Feminnino</th>\n",
       "      <th>Masculino</th>\n",
       "      <th>Feminnino</th>\n",
       "      <th>Masculino</th>\n",
       "      <th>Feminnino</th>\n",
       "      <th>Masculino</th>\n",
       "      <th>Feminnino</th>\n",
       "    </tr>\n",
       "    <tr>\n",
       "      <th>Anos de Estudo</th>\n",
       "      <th></th>\n",
       "      <th></th>\n",
       "      <th></th>\n",
       "      <th></th>\n",
       "      <th></th>\n",
       "      <th></th>\n",
       "      <th></th>\n",
       "      <th></th>\n",
       "    </tr>\n",
       "  </thead>\n",
       "  <tbody>\n",
       "    <tr>\n",
       "      <th>Sem instrução e menos de 1 ano</th>\n",
       "      <td>799.494638</td>\n",
       "      <td>516.201748</td>\n",
       "      <td>700</td>\n",
       "      <td>390</td>\n",
       "      <td>30000</td>\n",
       "      <td>10000</td>\n",
       "      <td>1023.904884</td>\n",
       "      <td>639.311534</td>\n",
       "    </tr>\n",
       "    <tr>\n",
       "      <th>1 ano</th>\n",
       "      <td>895.629047</td>\n",
       "      <td>492.771987</td>\n",
       "      <td>788</td>\n",
       "      <td>400</td>\n",
       "      <td>30000</td>\n",
       "      <td>2000</td>\n",
       "      <td>1331.950552</td>\n",
       "      <td>425.291842</td>\n",
       "    </tr>\n",
       "    <tr>\n",
       "      <th>2 anos</th>\n",
       "      <td>931.178986</td>\n",
       "      <td>529.911638</td>\n",
       "      <td>788</td>\n",
       "      <td>450</td>\n",
       "      <td>40000</td>\n",
       "      <td>4000</td>\n",
       "      <td>1435.173827</td>\n",
       "      <td>498.234168</td>\n",
       "    </tr>\n",
       "    <tr>\n",
       "      <th>3 anos</th>\n",
       "      <td>1109.203862</td>\n",
       "      <td>546.853916</td>\n",
       "      <td>800</td>\n",
       "      <td>500</td>\n",
       "      <td>80000</td>\n",
       "      <td>3500</td>\n",
       "      <td>2143.800133</td>\n",
       "      <td>424.124446</td>\n",
       "    </tr>\n",
       "    <tr>\n",
       "      <th>4 anos</th>\n",
       "      <td>1302.329283</td>\n",
       "      <td>704.279111</td>\n",
       "      <td>1000</td>\n",
       "      <td>788</td>\n",
       "      <td>50000</td>\n",
       "      <td>10000</td>\n",
       "      <td>1419.821787</td>\n",
       "      <td>629.553397</td>\n",
       "    </tr>\n",
       "    <tr>\n",
       "      <th>5 anos</th>\n",
       "      <td>1338.653218</td>\n",
       "      <td>781.389776</td>\n",
       "      <td>1045</td>\n",
       "      <td>788</td>\n",
       "      <td>35000</td>\n",
       "      <td>8000</td>\n",
       "      <td>1484.650587</td>\n",
       "      <td>635.782641</td>\n",
       "    </tr>\n",
       "    <tr>\n",
       "      <th>6 anos</th>\n",
       "      <td>1448.875419</td>\n",
       "      <td>833.732824</td>\n",
       "      <td>1200</td>\n",
       "      <td>788</td>\n",
       "      <td>25000</td>\n",
       "      <td>6000</td>\n",
       "      <td>1476.628602</td>\n",
       "      <td>574.547028</td>\n",
       "    </tr>\n",
       "    <tr>\n",
       "      <th>7 anos</th>\n",
       "      <td>1465.497940</td>\n",
       "      <td>830.751004</td>\n",
       "      <td>1200</td>\n",
       "      <td>788</td>\n",
       "      <td>40000</td>\n",
       "      <td>9000</td>\n",
       "      <td>1419.708673</td>\n",
       "      <td>602.038029</td>\n",
       "    </tr>\n",
       "    <tr>\n",
       "      <th>8 anos</th>\n",
       "      <td>1639.396667</td>\n",
       "      <td>933.615351</td>\n",
       "      <td>1300</td>\n",
       "      <td>800</td>\n",
       "      <td>30000</td>\n",
       "      <td>18000</td>\n",
       "      <td>1515.583715</td>\n",
       "      <td>896.781213</td>\n",
       "    </tr>\n",
       "    <tr>\n",
       "      <th>9 anos</th>\n",
       "      <td>1508.038850</td>\n",
       "      <td>868.021700</td>\n",
       "      <td>1200</td>\n",
       "      <td>788</td>\n",
       "      <td>60000</td>\n",
       "      <td>20000</td>\n",
       "      <td>2137.664774</td>\n",
       "      <td>973.221652</td>\n",
       "    </tr>\n",
       "    <tr>\n",
       "      <th>10 anos</th>\n",
       "      <td>1731.270847</td>\n",
       "      <td>925.919225</td>\n",
       "      <td>1218</td>\n",
       "      <td>800</td>\n",
       "      <td>45000</td>\n",
       "      <td>6000</td>\n",
       "      <td>2078.609734</td>\n",
       "      <td>620.611907</td>\n",
       "    </tr>\n",
       "    <tr>\n",
       "      <th>11 anos</th>\n",
       "      <td>2117.060504</td>\n",
       "      <td>1286.790889</td>\n",
       "      <td>1500</td>\n",
       "      <td>1000</td>\n",
       "      <td>200000</td>\n",
       "      <td>100000</td>\n",
       "      <td>2676.538942</td>\n",
       "      <td>1819.040417</td>\n",
       "    </tr>\n",
       "    <tr>\n",
       "      <th>12 anos</th>\n",
       "      <td>2470.330776</td>\n",
       "      <td>1682.313725</td>\n",
       "      <td>1800</td>\n",
       "      <td>1200</td>\n",
       "      <td>30000</td>\n",
       "      <td>120000</td>\n",
       "      <td>2268.081538</td>\n",
       "      <td>4851.833513</td>\n",
       "    </tr>\n",
       "    <tr>\n",
       "      <th>13 anos</th>\n",
       "      <td>3195.099154</td>\n",
       "      <td>1911.730047</td>\n",
       "      <td>2400</td>\n",
       "      <td>1300</td>\n",
       "      <td>25000</td>\n",
       "      <td>20000</td>\n",
       "      <td>2797.116800</td>\n",
       "      <td>2053.789771</td>\n",
       "    </tr>\n",
       "    <tr>\n",
       "      <th>14 anos</th>\n",
       "      <td>3706.620269</td>\n",
       "      <td>2226.460457</td>\n",
       "      <td>2500</td>\n",
       "      <td>1600</td>\n",
       "      <td>50000</td>\n",
       "      <td>20000</td>\n",
       "      <td>3987.214974</td>\n",
       "      <td>2064.083336</td>\n",
       "    </tr>\n",
       "    <tr>\n",
       "      <th>15 anos ou mais</th>\n",
       "      <td>6134.279790</td>\n",
       "      <td>3899.513231</td>\n",
       "      <td>4000</td>\n",
       "      <td>2800</td>\n",
       "      <td>200000</td>\n",
       "      <td>100000</td>\n",
       "      <td>7447.613594</td>\n",
       "      <td>4212.770709</td>\n",
       "    </tr>\n",
       "    <tr>\n",
       "      <th>Não determinados</th>\n",
       "      <td>1295.761905</td>\n",
       "      <td>798.174419</td>\n",
       "      <td>1200</td>\n",
       "      <td>788</td>\n",
       "      <td>7000</td>\n",
       "      <td>3000</td>\n",
       "      <td>979.648745</td>\n",
       "      <td>459.985964</td>\n",
       "    </tr>\n",
       "  </tbody>\n",
       "</table>\n",
       "</div>"
      ],
      "text/plain": [
       "                                      Média                Mediana            \\\n",
       "Sexo                              Masculino    Feminnino Masculino Feminnino   \n",
       "Anos de Estudo                                                                 \n",
       "Sem instrução e menos de 1 ano   799.494638   516.201748       700       390   \n",
       "1 ano                            895.629047   492.771987       788       400   \n",
       "2 anos                           931.178986   529.911638       788       450   \n",
       "3 anos                          1109.203862   546.853916       800       500   \n",
       "4 anos                          1302.329283   704.279111      1000       788   \n",
       "5 anos                          1338.653218   781.389776      1045       788   \n",
       "6 anos                          1448.875419   833.732824      1200       788   \n",
       "7 anos                          1465.497940   830.751004      1200       788   \n",
       "8 anos                          1639.396667   933.615351      1300       800   \n",
       "9 anos                          1508.038850   868.021700      1200       788   \n",
       "10 anos                         1731.270847   925.919225      1218       800   \n",
       "11 anos                         2117.060504  1286.790889      1500      1000   \n",
       "12 anos                         2470.330776  1682.313725      1800      1200   \n",
       "13 anos                         3195.099154  1911.730047      2400      1300   \n",
       "14 anos                         3706.620269  2226.460457      2500      1600   \n",
       "15 anos ou mais                 6134.279790  3899.513231      4000      2800   \n",
       "Não determinados                1295.761905   798.174419      1200       788   \n",
       "\n",
       "                                  Máximo           Desvio Padrão               \n",
       "Sexo                           Masculino Feminnino     Masculino    Feminnino  \n",
       "Anos de Estudo                                                                 \n",
       "Sem instrução e menos de 1 ano     30000     10000   1023.904884   639.311534  \n",
       "1 ano                              30000      2000   1331.950552   425.291842  \n",
       "2 anos                             40000      4000   1435.173827   498.234168  \n",
       "3 anos                             80000      3500   2143.800133   424.124446  \n",
       "4 anos                             50000     10000   1419.821787   629.553397  \n",
       "5 anos                             35000      8000   1484.650587   635.782641  \n",
       "6 anos                             25000      6000   1476.628602   574.547028  \n",
       "7 anos                             40000      9000   1419.708673   602.038029  \n",
       "8 anos                             30000     18000   1515.583715   896.781213  \n",
       "9 anos                             60000     20000   2137.664774   973.221652  \n",
       "10 anos                            45000      6000   2078.609734   620.611907  \n",
       "11 anos                           200000    100000   2676.538942  1819.040417  \n",
       "12 anos                            30000    120000   2268.081538  4851.833513  \n",
       "13 anos                            25000     20000   2797.116800  2053.789771  \n",
       "14 anos                            50000     20000   3987.214974  2064.083336  \n",
       "15 anos ou mais                   200000    100000   7447.613594  4212.770709  \n",
       "Não determinados                    7000      3000    979.648745   459.985964  "
      ]
     },
     "execution_count": 36,
     "metadata": {},
     "output_type": "execute_result"
    }
   ],
   "source": [
    "tabela_contingencia_anos_estudo_sexo_renda = pd.crosstab(\n",
    "    index=dados['Anos de Estudo'],\n",
    "    columns=dados['Sexo'],\n",
    "    values=dados['Renda'],\n",
    "    aggfunc=['mean', 'median', 'max', 'std']\n",
    ")\n",
    "tabela_contingencia_anos_estudo_sexo_renda.rename(\n",
    "    index=anos_de_estudo,\n",
    "    columns={\n",
    "        0: 'Masculino',\n",
    "        1: 'Feminnino',\n",
    "        'mean': 'Média',\n",
    "        'median': 'Mediana',\n",
    "        'max': 'Máximo',\n",
    "        'std': 'Desvio Padrão'\n",
    "    },\n",
    "    inplace=True\n",
    ")\n",
    "tabela_contingencia_anos_estudo_sexo_renda"
   ]
  },
  {
   "cell_type": "markdown",
   "metadata": {
    "id": "SsKr7bybr9Eu"
   },
   "source": [
    "Observa-se que, no geral, a renda de pessoas com maior escolaridade tende a ser superior a das pessoas com menor escolaridade."
   ]
  },
  {
   "cell_type": "code",
   "execution_count": 37,
   "metadata": {
    "colab": {
     "base_uri": "https://localhost:8080/",
     "height": 977
    },
    "id": "ux4Ke0j6qdTP",
    "outputId": "9e41b6d3-fd0c-4c1c-8dd6-ed1b670a9c06"
   },
   "outputs": [
    {
     "data": {
      "text/plain": [
       "<Axes: title={'center': 'Boxplot da Renda por Anos de Estudo e Sexo'}, xlabel='Renda (R$)', ylabel='Anos de Estudo'>"
      ]
     },
     "execution_count": 37,
     "metadata": {},
     "output_type": "execute_result"
    },
    {
     "data": {
      "image/png": "[encoded data removed]",
      "text/plain": [
       "<Figure size 2400x1800 with 1 Axes>"
      ]
     },
     "metadata": {},
     "output_type": "display_data"
    }
   ],
   "source": [
    "# Cria um diagrama de caixa\n",
    "ax = sns.boxplot(\n",
    "    data=dados.query('Renda < 10000'),\n",
    "    x='Renda',\n",
    "    y='Anos de Estudo',\n",
    "    hue='Sexo',\n",
    "    orient='h'\n",
    "  )\n",
    "\n",
    "# Define as dimensões da figura\n",
    "ax.figure.set_size_inches(24,18)\n",
    "\n",
    "# Define o título do gráfico\n",
    "ax.set_title('Boxplot da Renda por Anos de Estudo e Sexo', fontsize=16)\n",
    "\n",
    "# Define o rótulo do eixo x\n",
    "ax.set_xlabel('Renda (R$)', fontsize=14)\n",
    "\n",
    "# Define o rótulo do eixo y\n",
    "ax.set_ylabel('Anos de Estudo', fontsize=14)\n",
    "\n",
    "# Configura os rótulos dos marcadores do eixo y\n",
    "ax.set_yticklabels([valor for valor in anos_de_estudo.values()], fontsize=14)\n",
    "\n",
    "# Obtém os identificadores e os rótulos da legenda\n",
    "identificadores, rotulos = ax.get_legend_handles_labels()\n",
    "\n",
    "# Configura a legenda\n",
    "ax.legend(title='Sexos', loc='upper right', handles=identificadores, labels=['Masculino', 'Feminino'], fontsize=14)\n",
    "\n",
    "# Exibe o gráfico\n",
    "ax"
   ]
  },
  {
   "cell_type": "markdown",
   "metadata": {
    "id": "09UhMn8DtoSZ"
   },
   "source": [
    "#### Conclusões"
   ]
  },
  {
   "cell_type": "markdown",
   "metadata": {
    "id": "cZOZXj0OtrPP"
   },
   "source": [
    "No geral, as pessoas com maior grau de escolaridade têm salários maiores.\n",
    "\n",
    "Há diversas observações em que os homens com menor grau de escolaridade que as mulheres têm salários mais elevados."
   ]
  },
  {
   "cell_type": "markdown",
   "metadata": {
    "id": "xtKKI9L2up6d"
   },
   "source": [
    "### Análise da Variável Renda para Unidades da Federação"
   ]
  },
  {
   "cell_type": "code",
   "execution_count": 38,
   "metadata": {
    "id": "n20QlOM0vVlC"
   },
   "outputs": [],
   "source": [
    "# Dicionário com as traduções dos códigos das UFs\n",
    "ufs = {\n",
    "    11: 'Rondônia',\n",
    "    12: 'Acre',\n",
    "    13: 'Amazonas',\n",
    "    14: 'Roraima',\n",
    "    15: 'Pará',\n",
    "    16: 'Amapá',\n",
    "    17: 'Tocantins',\n",
    "    21: 'Maranhão',\n",
    "    22: 'Piauí',\n",
    "    23: 'Ceará',\n",
    "    24: 'Rio Grande do Norte',\n",
    "    25: 'Paraíba',\n",
    "    26: 'Pernambuco',\n",
    "    27: 'Alagoas',\n",
    "    28: 'Sergipe',\n",
    "    29: 'Bahia',\n",
    "    31: 'Minas Gerais',\n",
    "    32: 'Espírito Santo',\n",
    "    33: 'Rio de Janeiro',\n",
    "    35: 'São Paulo',\n",
    "    41: 'Paraná',\n",
    "    42: 'Santa Catarina',\n",
    "    43: 'Rio Grande do Sul',\n",
    "    50: 'Mato Grosso do Sul',\n",
    "    51: 'Mato Grosso',\n",
    "    52: 'Goiás',\n",
    "    53: 'Distrito Federal'\n",
    "}"
   ]
  },
  {
   "cell_type": "code",
   "execution_count": 39,
   "metadata": {
    "colab": {
     "base_uri": "https://localhost:8080/",
     "height": 927
    },
    "id": "k-5FRQeGtpy9",
    "outputId": "f96c3dcc-76d3-4205-dbb3-0b0f64c8f432"
   },
   "outputs": [
    {
     "data": {
      "text/html": [
       "<div>\n",
       "<style scoped>\n",
       "    .dataframe tbody tr th:only-of-type {\n",
       "        vertical-align: middle;\n",
       "    }\n",
       "\n",
       "    .dataframe tbody tr th {\n",
       "        vertical-align: top;\n",
       "    }\n",
       "\n",
       "    .dataframe thead th {\n",
       "        text-align: right;\n",
       "    }\n",
       "</style>\n",
       "<table border=\"1\" class=\"dataframe\">\n",
       "  <thead>\n",
       "    <tr style=\"text-align: right;\">\n",
       "      <th></th>\n",
       "      <th>Média</th>\n",
       "      <th>Mediana</th>\n",
       "      <th>Máximo</th>\n",
       "      <th>Desvio Padrão</th>\n",
       "    </tr>\n",
       "    <tr>\n",
       "      <th>UF</th>\n",
       "      <th></th>\n",
       "      <th></th>\n",
       "      <th></th>\n",
       "      <th></th>\n",
       "    </tr>\n",
       "  </thead>\n",
       "  <tbody>\n",
       "    <tr>\n",
       "      <th>Rondônia</th>\n",
       "      <td>1789.761223</td>\n",
       "      <td>1200.0</td>\n",
       "      <td>50000</td>\n",
       "      <td>2406.161161</td>\n",
       "    </tr>\n",
       "    <tr>\n",
       "      <th>Acre</th>\n",
       "      <td>1506.091782</td>\n",
       "      <td>900.0</td>\n",
       "      <td>30000</td>\n",
       "      <td>2276.233415</td>\n",
       "    </tr>\n",
       "    <tr>\n",
       "      <th>Amazonas</th>\n",
       "      <td>1445.130100</td>\n",
       "      <td>900.0</td>\n",
       "      <td>22000</td>\n",
       "      <td>1757.935591</td>\n",
       "    </tr>\n",
       "    <tr>\n",
       "      <th>Roraima</th>\n",
       "      <td>1783.588889</td>\n",
       "      <td>1000.0</td>\n",
       "      <td>20000</td>\n",
       "      <td>2079.659238</td>\n",
       "    </tr>\n",
       "    <tr>\n",
       "      <th>Pará</th>\n",
       "      <td>1399.076871</td>\n",
       "      <td>850.0</td>\n",
       "      <td>50000</td>\n",
       "      <td>2053.779555</td>\n",
       "    </tr>\n",
       "    <tr>\n",
       "      <th>Amapá</th>\n",
       "      <td>1861.353516</td>\n",
       "      <td>1200.0</td>\n",
       "      <td>15580</td>\n",
       "      <td>2020.688632</td>\n",
       "    </tr>\n",
       "    <tr>\n",
       "      <th>Tocantins</th>\n",
       "      <td>1771.094946</td>\n",
       "      <td>1000.0</td>\n",
       "      <td>60000</td>\n",
       "      <td>2934.590741</td>\n",
       "    </tr>\n",
       "    <tr>\n",
       "      <th>Maranhão</th>\n",
       "      <td>1019.432009</td>\n",
       "      <td>700.0</td>\n",
       "      <td>30000</td>\n",
       "      <td>1887.816905</td>\n",
       "    </tr>\n",
       "    <tr>\n",
       "      <th>Piauí</th>\n",
       "      <td>1074.550784</td>\n",
       "      <td>750.0</td>\n",
       "      <td>40000</td>\n",
       "      <td>2373.355726</td>\n",
       "    </tr>\n",
       "    <tr>\n",
       "      <th>Ceará</th>\n",
       "      <td>1255.403692</td>\n",
       "      <td>789.0</td>\n",
       "      <td>25000</td>\n",
       "      <td>1821.963536</td>\n",
       "    </tr>\n",
       "    <tr>\n",
       "      <th>Rio Grande do Norte</th>\n",
       "      <td>1344.721480</td>\n",
       "      <td>800.0</td>\n",
       "      <td>15500</td>\n",
       "      <td>1651.805500</td>\n",
       "    </tr>\n",
       "    <tr>\n",
       "      <th>Paraíba</th>\n",
       "      <td>1293.370487</td>\n",
       "      <td>788.0</td>\n",
       "      <td>30000</td>\n",
       "      <td>1950.272431</td>\n",
       "    </tr>\n",
       "    <tr>\n",
       "      <th>Pernambuco</th>\n",
       "      <td>1527.079319</td>\n",
       "      <td>900.0</td>\n",
       "      <td>50000</td>\n",
       "      <td>2389.622497</td>\n",
       "    </tr>\n",
       "    <tr>\n",
       "      <th>Alagoas</th>\n",
       "      <td>1144.552602</td>\n",
       "      <td>788.0</td>\n",
       "      <td>11000</td>\n",
       "      <td>1237.856197</td>\n",
       "    </tr>\n",
       "    <tr>\n",
       "      <th>Sergipe</th>\n",
       "      <td>1109.111111</td>\n",
       "      <td>788.0</td>\n",
       "      <td>16000</td>\n",
       "      <td>1478.997878</td>\n",
       "    </tr>\n",
       "    <tr>\n",
       "      <th>Bahia</th>\n",
       "      <td>1429.645094</td>\n",
       "      <td>800.0</td>\n",
       "      <td>200000</td>\n",
       "      <td>3507.917248</td>\n",
       "    </tr>\n",
       "    <tr>\n",
       "      <th>Minas Gerais</th>\n",
       "      <td>2056.432084</td>\n",
       "      <td>1200.0</td>\n",
       "      <td>100000</td>\n",
       "      <td>3584.721547</td>\n",
       "    </tr>\n",
       "    <tr>\n",
       "      <th>Espírito Santo</th>\n",
       "      <td>2026.383852</td>\n",
       "      <td>1274.0</td>\n",
       "      <td>100000</td>\n",
       "      <td>3513.846868</td>\n",
       "    </tr>\n",
       "    <tr>\n",
       "      <th>Rio de Janeiro</th>\n",
       "      <td>2496.403168</td>\n",
       "      <td>1400.0</td>\n",
       "      <td>200000</td>\n",
       "      <td>5214.583518</td>\n",
       "    </tr>\n",
       "    <tr>\n",
       "      <th>São Paulo</th>\n",
       "      <td>2638.104986</td>\n",
       "      <td>1600.0</td>\n",
       "      <td>80000</td>\n",
       "      <td>3503.777366</td>\n",
       "    </tr>\n",
       "    <tr>\n",
       "      <th>Paraná</th>\n",
       "      <td>2493.870753</td>\n",
       "      <td>1500.0</td>\n",
       "      <td>200000</td>\n",
       "      <td>4302.937995</td>\n",
       "    </tr>\n",
       "    <tr>\n",
       "      <th>Santa Catarina</th>\n",
       "      <td>2470.854945</td>\n",
       "      <td>1800.0</td>\n",
       "      <td>80000</td>\n",
       "      <td>3137.651112</td>\n",
       "    </tr>\n",
       "    <tr>\n",
       "      <th>Rio Grande do Sul</th>\n",
       "      <td>2315.158336</td>\n",
       "      <td>1500.0</td>\n",
       "      <td>35000</td>\n",
       "      <td>2913.335783</td>\n",
       "    </tr>\n",
       "    <tr>\n",
       "      <th>Mato Grosso do Sul</th>\n",
       "      <td>2262.604167</td>\n",
       "      <td>1500.0</td>\n",
       "      <td>42000</td>\n",
       "      <td>3031.419122</td>\n",
       "    </tr>\n",
       "    <tr>\n",
       "      <th>Mato Grosso</th>\n",
       "      <td>2130.652778</td>\n",
       "      <td>1500.0</td>\n",
       "      <td>35000</td>\n",
       "      <td>2542.630178</td>\n",
       "    </tr>\n",
       "    <tr>\n",
       "      <th>Goiás</th>\n",
       "      <td>1994.580794</td>\n",
       "      <td>1500.0</td>\n",
       "      <td>30000</td>\n",
       "      <td>2221.933065</td>\n",
       "    </tr>\n",
       "    <tr>\n",
       "      <th>Distrito Federal</th>\n",
       "      <td>4241.954722</td>\n",
       "      <td>2000.0</td>\n",
       "      <td>100000</td>\n",
       "      <td>5550.463338</td>\n",
       "    </tr>\n",
       "  </tbody>\n",
       "</table>\n",
       "</div>"
      ],
      "text/plain": [
       "                           Média  Mediana  Máximo  Desvio Padrão\n",
       "UF                                                              \n",
       "Rondônia             1789.761223   1200.0   50000    2406.161161\n",
       "Acre                 1506.091782    900.0   30000    2276.233415\n",
       "Amazonas             1445.130100    900.0   22000    1757.935591\n",
       "Roraima              1783.588889   1000.0   20000    2079.659238\n",
       "Pará                 1399.076871    850.0   50000    2053.779555\n",
       "Amapá                1861.353516   1200.0   15580    2020.688632\n",
       "Tocantins            1771.094946   1000.0   60000    2934.590741\n",
       "Maranhão             1019.432009    700.0   30000    1887.816905\n",
       "Piauí                1074.550784    750.0   40000    2373.355726\n",
       "Ceará                1255.403692    789.0   25000    1821.963536\n",
       "Rio Grande do Norte  1344.721480    800.0   15500    1651.805500\n",
       "Paraíba              1293.370487    788.0   30000    1950.272431\n",
       "Pernambuco           1527.079319    900.0   50000    2389.622497\n",
       "Alagoas              1144.552602    788.0   11000    1237.856197\n",
       "Sergipe              1109.111111    788.0   16000    1478.997878\n",
       "Bahia                1429.645094    800.0  200000    3507.917248\n",
       "Minas Gerais         2056.432084   1200.0  100000    3584.721547\n",
       "Espírito Santo       2026.383852   1274.0  100000    3513.846868\n",
       "Rio de Janeiro       2496.403168   1400.0  200000    5214.583518\n",
       "São Paulo            2638.104986   1600.0   80000    3503.777366\n",
       "Paraná               2493.870753   1500.0  200000    4302.937995\n",
       "Santa Catarina       2470.854945   1800.0   80000    3137.651112\n",
       "Rio Grande do Sul    2315.158336   1500.0   35000    2913.335783\n",
       "Mato Grosso do Sul   2262.604167   1500.0   42000    3031.419122\n",
       "Mato Grosso          2130.652778   1500.0   35000    2542.630178\n",
       "Goiás                1994.580794   1500.0   30000    2221.933065\n",
       "Distrito Federal     4241.954722   2000.0  100000    5550.463338"
      ]
     },
     "execution_count": 39,
     "metadata": {},
     "output_type": "execute_result"
    }
   ],
   "source": [
    "renda_por_uf = dados.groupby('UF')['Renda'].agg(['mean', 'median', 'max', 'std'])\n",
    "renda_por_uf.rename(\n",
    "    index=ufs,\n",
    "    columns={\n",
    "        'mean': 'Média',\n",
    "        'median': 'Mediana',\n",
    "        'max': 'Máximo',\n",
    "        'std': 'Desvio Padrão'\n",
    "    },\n",
    "    inplace=True\n",
    "  )\n",
    "renda_por_uf"
   ]
  },
  {
   "cell_type": "markdown",
   "metadata": {
    "id": "tBGt9aW6vvS0"
   },
   "source": [
    "As três Unidades da Federação (UFs) com maior salário mediano, em ordem crescente, são estas:\n",
    "\n",
    "\n",
    "\n",
    "1.   Distrito Federal (2.000,00)\n",
    "2.   Rio de Janeiro (1.800,00)\n",
    "3.   São Paulo (1.600,00)\n",
    "\n",
    "As três UFs com menor salário mediano, em ordem crescente, são estas:\n",
    "\n",
    "\n",
    "\n",
    "1.   Maranhão (700,00)\n",
    "2.   Piauí (750,00)\n",
    "3.   Sergipe (788,00)\n",
    "\n",
    "A UF com maior dispersão de valores de renda era o Distrito Federa, seguido pelo Rio de Janeiro e pelo Paraná.\n",
    "\n",
    "\n"
   ]
  },
  {
   "cell_type": "code",
   "execution_count": 40,
   "metadata": {
    "colab": {
     "base_uri": "https://localhost:8080/",
     "height": 981
    },
    "id": "ou_eEzSdvv88",
    "outputId": "cba354f1-b7bc-412f-d013-0235633215e5"
   },
   "outputs": [
    {
     "data": {
      "text/plain": [
       "<Axes: title={'center': 'Distribuição da Renda por UF'}, xlabel='Renda (R$)', ylabel='UF'>"
      ]
     },
     "execution_count": 40,
     "metadata": {},
     "output_type": "execute_result"
    },
    {
     "data": {
      "image/png": "[encoded data removed]",
      "text/plain": [
       "<Figure size 2100x1500 with 1 Axes>"
      ]
     },
     "metadata": {},
     "output_type": "display_data"
    }
   ],
   "source": [
    "# Cria um boxplot para a variável renda versus a UF\n",
    "ax = sns.boxplot(\n",
    "    data=dados.query('Renda < 10000'),\n",
    "    x='Renda',\n",
    "    y='UF',\n",
    "    orient='h'\n",
    "  )\n",
    "\n",
    "# Define as dimensões da figura\n",
    "ax.figure.set_size_inches(21, 15)\n",
    "\n",
    "# Define o rótulo do eixo x\n",
    "ax.set_xlabel('Renda (R$)', fontsize=14)\n",
    "\n",
    "# Define o rótulo do eixo y\n",
    "ax.set_ylabel('UF', fontsize=14)\n",
    "\n",
    "# Define os rótulos do eixo y\n",
    "ax.set_yticklabels([uf for uf in ufs.values()], fontsize=14)\n",
    "\n",
    "# Define o título do gráfico\n",
    "ax.set_title('Distribuição da Renda por UF', fontsize=18)\n",
    "\n",
    "# Exibe o gráfico\n",
    "ax"
   ]
  },
  {
   "cell_type": "markdown",
   "metadata": {
    "id": "Hmv_p6j7ycjz"
   },
   "source": [
    "Observa-se que os salários e a dispersão dos valores dos salários de entrevistados que moravam em estados das regiões sudeste, sul e centro-oeste eram superiores aos dos que moravam no norte e no nordeste."
   ]
  }
 ],
 "metadata": {
  "colab": {
   "provenance": [],
   "toc_visible": true
  },
  "kernelspec": {
   "display_name": "Python 3 (ipykernel)",
   "language": "python",
   "name": "python3"
  },
  "language_info": {
   "codemirror_mode": {
    "name": "ipython",
    "version": 3
   },
   "file_extension": ".py",
   "mimetype": "text/x-python",
   "name": "python",
   "nbconvert_exporter": "python",
   "pygments_lexer": "ipython3",
   "version": "3.11.3"
  }
 },
 "nbformat": 4,
 "nbformat_minor": 4
}
